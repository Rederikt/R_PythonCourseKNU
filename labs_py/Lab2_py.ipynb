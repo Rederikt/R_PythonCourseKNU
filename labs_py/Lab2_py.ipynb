{
 "cells": [
  {
   "cell_type": "markdown",
   "id": "641372cd",
   "metadata": {},
   "source": [
    "# Lab 2\n",
    "Take own dataset and make some analysis\n",
    "## Task\n",
    "\n",
    "In this assignment you have to:\n",
    "\n",
    "1. Choose a data set for you own. It is better to choose a data set related to Ukraine. (source example: [data.gov.ua](https://data.gov.ua/), [data.kyivcity.gov.ua](https://data.kyivcity.gov.ua/), [kaggle.com](https://www.kaggle.com/)).\n",
    "2. Create a new jupyter notebook file.\n",
    "3. In the begging of the file give a short description of the data set and variables in it. It is necessary to provide a link to the sourse of the data set.\n",
    "4. Read the data set. If need you should clean and transform data set.\n",
    "5. Ask at least 5 question to the data set. Example of questions you could find in __Lab 1 Python__. Give answers to the questions.\n",
    "6. Upload to your repository on github _.ipynb_ file and the data set (if possible).\n",
    "\n",
    "### For task purpose I chose Selfie Injuries dataset"
   ]
  },
  {
   "cell_type": "code",
   "execution_count": 178,
   "id": "68096ccf",
   "metadata": {},
   "outputs": [
    {
     "data": {
      "text/html": [
       "<div>\n",
       "<style scoped>\n",
       "    .dataframe tbody tr th:only-of-type {\n",
       "        vertical-align: middle;\n",
       "    }\n",
       "\n",
       "    .dataframe tbody tr th {\n",
       "        vertical-align: top;\n",
       "    }\n",
       "\n",
       "    .dataframe thead th {\n",
       "        text-align: right;\n",
       "    }\n",
       "</style>\n",
       "<table border=\"1\" class=\"dataframe\">\n",
       "  <thead>\n",
       "    <tr style=\"text-align: right;\">\n",
       "      <th></th>\n",
       "      <th>Date</th>\n",
       "      <th>Country</th>\n",
       "      <th>Injuries/Casualties</th>\n",
       "      <th>Type</th>\n",
       "      <th>Description</th>\n",
       "    </tr>\n",
       "  </thead>\n",
       "  <tbody>\n",
       "    <tr>\n",
       "      <th>0</th>\n",
       "      <td>15 October 2011</td>\n",
       "      <td>United States</td>\n",
       "      <td>3</td>\n",
       "      <td>Transport</td>\n",
       "      <td>Three teenagers (two sisters and a friend) wer...</td>\n",
       "    </tr>\n",
       "    <tr>\n",
       "      <th>1</th>\n",
       "      <td>March 2014</td>\n",
       "      <td>Spain</td>\n",
       "      <td>1</td>\n",
       "      <td>Electrocution</td>\n",
       "      <td>A 21-year-old man was electrocuted after climb...</td>\n",
       "    </tr>\n",
       "    <tr>\n",
       "      <th>2</th>\n",
       "      <td>March 2014</td>\n",
       "      <td>Russia</td>\n",
       "      <td>1</td>\n",
       "      <td>Transport</td>\n",
       "      <td>Two people were walking near train tracks when...</td>\n",
       "    </tr>\n",
       "    <tr>\n",
       "      <th>3</th>\n",
       "      <td>April 2014</td>\n",
       "      <td>United States</td>\n",
       "      <td>1</td>\n",
       "      <td>Transport</td>\n",
       "      <td>A 32-year-old woman from North Carolina was dr...</td>\n",
       "    </tr>\n",
       "    <tr>\n",
       "      <th>4</th>\n",
       "      <td>22 April 2014</td>\n",
       "      <td>Russia</td>\n",
       "      <td>1</td>\n",
       "      <td>Fall</td>\n",
       "      <td>A 17-year-old girl fell 30 ft to her death aft...</td>\n",
       "    </tr>\n",
       "    <tr>\n",
       "      <th>...</th>\n",
       "      <td>...</td>\n",
       "      <td>...</td>\n",
       "      <td>...</td>\n",
       "      <td>...</td>\n",
       "      <td>...</td>\n",
       "    </tr>\n",
       "    <tr>\n",
       "      <th>123</th>\n",
       "      <td>25 March 2017</td>\n",
       "      <td>United States</td>\n",
       "      <td>1</td>\n",
       "      <td>Drowned</td>\n",
       "      <td>A 14-year-old girl was standing on a log with ...</td>\n",
       "    </tr>\n",
       "    <tr>\n",
       "      <th>124</th>\n",
       "      <td>25 March 2017</td>\n",
       "      <td>Mexico</td>\n",
       "      <td>2</td>\n",
       "      <td>Transport</td>\n",
       "      <td>In the city of Chínipas de Almada, Chihuahua, ...</td>\n",
       "    </tr>\n",
       "    <tr>\n",
       "      <th>125</th>\n",
       "      <td>13 April 2017</td>\n",
       "      <td>India</td>\n",
       "      <td>5</td>\n",
       "      <td>Transport</td>\n",
       "      <td>Police said Taraknath Makal was travelling by ...</td>\n",
       "    </tr>\n",
       "    <tr>\n",
       "      <th>126</th>\n",
       "      <td>30 April 2017</td>\n",
       "      <td>Germany</td>\n",
       "      <td>1</td>\n",
       "      <td>Transport</td>\n",
       "      <td>A Scottish man was knocked down and killed aft...</td>\n",
       "    </tr>\n",
       "    <tr>\n",
       "      <th>127</th>\n",
       "      <td>8 May 2017</td>\n",
       "      <td>India</td>\n",
       "      <td>1</td>\n",
       "      <td>Drowned</td>\n",
       "      <td>A 21-year-old engineering student slipped from...</td>\n",
       "    </tr>\n",
       "  </tbody>\n",
       "</table>\n",
       "<p>128 rows × 5 columns</p>\n",
       "</div>"
      ],
      "text/plain": [
       "                Date        Country  Injuries/Casualties           Type  \\\n",
       "0    15 October 2011  United States                    3      Transport   \n",
       "1         March 2014          Spain                    1  Electrocution   \n",
       "2         March 2014         Russia                    1      Transport   \n",
       "3         April 2014  United States                    1      Transport   \n",
       "4      22 April 2014         Russia                    1           Fall   \n",
       "..               ...            ...                  ...            ...   \n",
       "123    25 March 2017  United States                    1        Drowned   \n",
       "124    25 March 2017         Mexico                    2      Transport   \n",
       "125    13 April 2017          India                    5      Transport   \n",
       "126    30 April 2017        Germany                    1      Transport   \n",
       "127       8 May 2017          India                    1        Drowned   \n",
       "\n",
       "                                           Description  \n",
       "0    Three teenagers (two sisters and a friend) wer...  \n",
       "1    A 21-year-old man was electrocuted after climb...  \n",
       "2    Two people were walking near train tracks when...  \n",
       "3    A 32-year-old woman from North Carolina was dr...  \n",
       "4    A 17-year-old girl fell 30 ft to her death aft...  \n",
       "..                                                 ...  \n",
       "123  A 14-year-old girl was standing on a log with ...  \n",
       "124  In the city of Chínipas de Almada, Chihuahua, ...  \n",
       "125  Police said Taraknath Makal was travelling by ...  \n",
       "126  A Scottish man was knocked down and killed aft...  \n",
       "127  A 21-year-old engineering student slipped from...  \n",
       "\n",
       "[128 rows x 5 columns]"
      ]
     },
     "execution_count": 178,
     "metadata": {},
     "output_type": "execute_result"
    }
   ],
   "source": [
    "import pandas as pd\n",
    "\n",
    "selfie_df = pd.read_csv('Selfie_Related_Injuries.csv')\n",
    "selfie_df.head(128)"
   ]
  },
  {
   "cell_type": "markdown",
   "id": "de5744c3",
   "metadata": {},
   "source": [
    "1. Most injuries by one accident"
   ]
  },
  {
   "cell_type": "code",
   "execution_count": 179,
   "id": "bafae17a",
   "metadata": {},
   "outputs": [
    {
     "data": {
      "text/plain": [
       "'48 people were injured when standing too close to a burning bakery in Chennai, India, to take selfies. They repeatedly ignored warnings advising them to move away from the blaze.'"
      ]
     },
     "execution_count": 179,
     "metadata": {},
     "output_type": "execute_result"
    }
   ],
   "source": [
    "def answer_one(): \n",
    "    most = selfie_df.loc[selfie_df[\"Injuries/Casualties\"] == selfie_df[\"Injuries/Casualties\"].max()]\n",
    "    return most[\"Description\"].values[0]\n",
    "answer_one()"
   ]
  },
  {
   "cell_type": "markdown",
   "id": "a26e75da",
   "metadata": {},
   "source": [
    "2. Find country that had most accidnets"
   ]
  },
  {
   "cell_type": "code",
   "execution_count": 180,
   "id": "ddbc7196",
   "metadata": {},
   "outputs": [
    {
     "data": {
      "text/plain": [
       "India    71\n",
       "Name: Country, dtype: int64"
      ]
     },
     "execution_count": 180,
     "metadata": {},
     "output_type": "execute_result"
    }
   ],
   "source": [
    "def answer_two(): \n",
    "    return selfie_df['Country'].value_counts()[:1]\n",
    "answer_two()"
   ]
  },
  {
   "cell_type": "markdown",
   "id": "09dd6da8",
   "metadata": {},
   "source": [
    "3. How many transport accidents in United States?"
   ]
  },
  {
   "cell_type": "code",
   "execution_count": 181,
   "id": "3c1659e6",
   "metadata": {},
   "outputs": [
    {
     "data": {
      "text/plain": [
       "5"
      ]
     },
     "execution_count": 181,
     "metadata": {},
     "output_type": "execute_result"
    }
   ],
   "source": [
    "def answer_three(): \n",
    "    us_df = selfie_df[selfie_df['Country'] == \"United States\"]\n",
    "    \n",
    "    return len(us_df.loc[us_df['Type'].str.contains(\"Transport\")])\n",
    "answer_three()"
   ]
  },
  {
   "cell_type": "markdown",
   "id": "b17d0ef8",
   "metadata": {},
   "source": [
    "4. Find all accidents that happened after 2015 year"
   ]
  },
  {
   "cell_type": "code",
   "execution_count": 188,
   "id": "fd53349a",
   "metadata": {},
   "outputs": [
    {
     "data": {
      "text/html": [
       "<div>\n",
       "<style scoped>\n",
       "    .dataframe tbody tr th:only-of-type {\n",
       "        vertical-align: middle;\n",
       "    }\n",
       "\n",
       "    .dataframe tbody tr th {\n",
       "        vertical-align: top;\n",
       "    }\n",
       "\n",
       "    .dataframe thead th {\n",
       "        text-align: right;\n",
       "    }\n",
       "</style>\n",
       "<table border=\"1\" class=\"dataframe\">\n",
       "  <thead>\n",
       "    <tr style=\"text-align: right;\">\n",
       "      <th></th>\n",
       "      <th>Date</th>\n",
       "      <th>Country</th>\n",
       "      <th>Injuries/Casualties</th>\n",
       "      <th>Type</th>\n",
       "      <th>Description</th>\n",
       "    </tr>\n",
       "  </thead>\n",
       "  <tbody>\n",
       "    <tr>\n",
       "      <th>1</th>\n",
       "      <td>2014-03-01</td>\n",
       "      <td>Spain</td>\n",
       "      <td>1</td>\n",
       "      <td>Electrocution</td>\n",
       "      <td>A 21-year-old man was electrocuted after climb...</td>\n",
       "    </tr>\n",
       "    <tr>\n",
       "      <th>2</th>\n",
       "      <td>2014-03-01</td>\n",
       "      <td>Russia</td>\n",
       "      <td>1</td>\n",
       "      <td>Transport</td>\n",
       "      <td>Two people were walking near train tracks when...</td>\n",
       "    </tr>\n",
       "    <tr>\n",
       "      <th>3</th>\n",
       "      <td>2014-04-01</td>\n",
       "      <td>United States</td>\n",
       "      <td>1</td>\n",
       "      <td>Transport</td>\n",
       "      <td>A 32-year-old woman from North Carolina was dr...</td>\n",
       "    </tr>\n",
       "    <tr>\n",
       "      <th>4</th>\n",
       "      <td>2014-04-22</td>\n",
       "      <td>Russia</td>\n",
       "      <td>1</td>\n",
       "      <td>Fall</td>\n",
       "      <td>A 17-year-old girl fell 30 ft to her death aft...</td>\n",
       "    </tr>\n",
       "    <tr>\n",
       "      <th>5</th>\n",
       "      <td>2014-05-01</td>\n",
       "      <td>India</td>\n",
       "      <td>1</td>\n",
       "      <td>Transport</td>\n",
       "      <td>A 15-year-old boy was killed by a train while ...</td>\n",
       "    </tr>\n",
       "    <tr>\n",
       "      <th>...</th>\n",
       "      <td>...</td>\n",
       "      <td>...</td>\n",
       "      <td>...</td>\n",
       "      <td>...</td>\n",
       "      <td>...</td>\n",
       "    </tr>\n",
       "    <tr>\n",
       "      <th>187</th>\n",
       "      <td>2021-05-16</td>\n",
       "      <td>Indonesia</td>\n",
       "      <td>9</td>\n",
       "      <td>Drowned</td>\n",
       "      <td>A boat overloaded with 20 people in a reservoi...</td>\n",
       "    </tr>\n",
       "    <tr>\n",
       "      <th>188</th>\n",
       "      <td>2021-07-10</td>\n",
       "      <td>Hong Kong</td>\n",
       "      <td>1</td>\n",
       "      <td>Fall</td>\n",
       "      <td>32-year-old influencer Sofia Cheung died after...</td>\n",
       "    </tr>\n",
       "    <tr>\n",
       "      <th>189</th>\n",
       "      <td>2021-07-11</td>\n",
       "      <td>India</td>\n",
       "      <td>11</td>\n",
       "      <td>Electrocution</td>\n",
       "      <td>Eleven people died in the Indian state of Raja...</td>\n",
       "    </tr>\n",
       "    <tr>\n",
       "      <th>190</th>\n",
       "      <td>2021-07-28</td>\n",
       "      <td>Italy</td>\n",
       "      <td>1</td>\n",
       "      <td>Fall</td>\n",
       "      <td>A 22-year-old YouTuber from Denmark died after...</td>\n",
       "    </tr>\n",
       "    <tr>\n",
       "      <th>191</th>\n",
       "      <td>2021-08-06</td>\n",
       "      <td>Hungary</td>\n",
       "      <td>1</td>\n",
       "      <td>Fall</td>\n",
       "      <td>A 19-year-old Dutch citizen died after falling...</td>\n",
       "    </tr>\n",
       "  </tbody>\n",
       "</table>\n",
       "<p>191 rows × 5 columns</p>\n",
       "</div>"
      ],
      "text/plain": [
       "          Date        Country  Injuries/Casualties           Type  \\\n",
       "1   2014-03-01          Spain                    1  Electrocution   \n",
       "2   2014-03-01         Russia                    1      Transport   \n",
       "3   2014-04-01  United States                    1      Transport   \n",
       "4   2014-04-22         Russia                    1           Fall   \n",
       "5   2014-05-01          India                    1      Transport   \n",
       "..         ...            ...                  ...            ...   \n",
       "187 2021-05-16      Indonesia                    9        Drowned   \n",
       "188 2021-07-10      Hong Kong                    1           Fall   \n",
       "189 2021-07-11          India                   11  Electrocution   \n",
       "190 2021-07-28          Italy                    1           Fall   \n",
       "191 2021-08-06        Hungary                    1           Fall   \n",
       "\n",
       "                                           Description  \n",
       "1    A 21-year-old man was electrocuted after climb...  \n",
       "2    Two people were walking near train tracks when...  \n",
       "3    A 32-year-old woman from North Carolina was dr...  \n",
       "4    A 17-year-old girl fell 30 ft to her death aft...  \n",
       "5    A 15-year-old boy was killed by a train while ...  \n",
       "..                                                 ...  \n",
       "187  A boat overloaded with 20 people in a reservoi...  \n",
       "188  32-year-old influencer Sofia Cheung died after...  \n",
       "189  Eleven people died in the Indian state of Raja...  \n",
       "190  A 22-year-old YouTuber from Denmark died after...  \n",
       "191  A 19-year-old Dutch citizen died after falling...  \n",
       "\n",
       "[191 rows x 5 columns]"
      ]
     },
     "execution_count": 188,
     "metadata": {},
     "output_type": "execute_result"
    }
   ],
   "source": [
    "def answer_four():\n",
    "    temp = selfie_df[:]\n",
    "    temp[\"Date\"] = pd.to_datetime(selfie_df['Date'])\n",
    "    include = temp[temp['Date'].dt.year >= 2013]\n",
    "    return include\n",
    "answer_four()"
   ]
  },
  {
   "cell_type": "markdown",
   "id": "ec00023d",
   "metadata": {},
   "source": [
    "5. Find country that had most accidents in 2014 year"
   ]
  },
  {
   "cell_type": "code",
   "execution_count": 198,
   "id": "f577ea76",
   "metadata": {},
   "outputs": [
    {
     "data": {
      "text/plain": [
       "Philippines    3\n",
       "Name: Country, dtype: int64"
      ]
     },
     "execution_count": 198,
     "metadata": {},
     "output_type": "execute_result"
    }
   ],
   "source": [
    "def answer_five():\n",
    "    temp = selfie_df[:]\n",
    "    temp[\"Date\"] = pd.to_datetime(selfie_df['Date'])\n",
    "    include_dates = temp[temp['Date'].dt.year == 2014]\n",
    "    result = include_dates['Country'].value_counts()[:1]\n",
    "    return result\n",
    "answer_five()"
   ]
  },
  {
   "cell_type": "code",
   "execution_count": null,
   "id": "d256fb14",
   "metadata": {},
   "outputs": [],
   "source": []
  }
 ],
 "metadata": {
  "kernelspec": {
   "display_name": "Python 3",
   "language": "python",
   "name": "python3"
  },
  "language_info": {
   "codemirror_mode": {
    "name": "ipython",
    "version": 3
   },
   "file_extension": ".py",
   "mimetype": "text/x-python",
   "name": "python",
   "nbconvert_exporter": "python",
   "pygments_lexer": "ipython3",
   "version": "3.8.8"
  }
 },
 "nbformat": 4,
 "nbformat_minor": 5
}
